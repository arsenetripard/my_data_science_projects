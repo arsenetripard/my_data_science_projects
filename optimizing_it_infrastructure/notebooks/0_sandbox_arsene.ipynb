{
 "cells": [
  {
   "cell_type": "code",
   "execution_count": 1,
   "metadata": {},
   "outputs": [],
   "source": [
    "import pandas as pd\n",
    "from pathlib import Path\n",
    "import matplotlib.pyplot as plt\n",
    "import os"
   ]
  },
  {
   "cell_type": "code",
   "execution_count": 2,
   "metadata": {},
   "outputs": [
    {
     "data": {
      "text/plain": [
       "'c:\\\\Users\\\\arsen\\\\Documents\\\\natixis_challenge'"
      ]
     },
     "execution_count": 2,
     "metadata": {},
     "output_type": "execute_result"
    }
   ],
   "source": [
    "notebook_path = Path(os.getcwd())\n",
    "root_path = notebook_path.parent.absolute()\n",
    "os.chdir(root_path)\n",
    "str(root_path)"
   ]
  },
  {
   "cell_type": "markdown",
   "metadata": {},
   "source": [
    "### Loading datasets"
   ]
  },
  {
   "cell_type": "code",
   "execution_count": 4,
   "metadata": {},
   "outputs": [],
   "source": [
    "df_cockpit = pd.read_csv('data/cockpit_20221221.csv').drop('Unnamed: 0', axis=1)\n",
    "df_item_info = pd.read_csv('data/item_info_20221221.csv').drop('Unnamed: 0', axis=1)\n",
    "df_item_trend = pd.read_csv('data/item_trend_20221221.csv').drop('Unnamed: 0', axis=1)\n",
    "df_mycloud = pd.read_csv('data/mycloud_20221221.csv').drop('Unnamed: 0', axis=1)\n",
    "df_tmp_hosts_zabbix = pd.read_csv('data/tmp_hosts_zabbix_20221221.csv').drop('Unnamed: 0', axis=1)"
   ]
  },
  {
   "cell_type": "markdown",
   "metadata": {},
   "source": [
    "## Studying high capacity for consecutive days"
   ]
  },
  {
   "cell_type": "code",
   "execution_count": 8,
   "metadata": {},
   "outputs": [
    {
     "data": {
      "text/html": [
       "<div>\n",
       "<style scoped>\n",
       "    .dataframe tbody tr th:only-of-type {\n",
       "        vertical-align: middle;\n",
       "    }\n",
       "\n",
       "    .dataframe tbody tr th {\n",
       "        vertical-align: top;\n",
       "    }\n",
       "\n",
       "    .dataframe thead th {\n",
       "        text-align: right;\n",
       "    }\n",
       "</style>\n",
       "<table border=\"1\" class=\"dataframe\">\n",
       "  <thead>\n",
       "    <tr style=\"text-align: right;\">\n",
       "      <th></th>\n",
       "      <th>itemid</th>\n",
       "      <th>clock</th>\n",
       "      <th>value_min</th>\n",
       "      <th>value_avg</th>\n",
       "      <th>value_max</th>\n",
       "      <th>item_type</th>\n",
       "    </tr>\n",
       "  </thead>\n",
       "  <tbody>\n",
       "    <tr>\n",
       "      <th>2373718</th>\n",
       "      <td>100100054579792</td>\n",
       "      <td>2022-10-12</td>\n",
       "      <td>3.315988</td>\n",
       "      <td>5.96734</td>\n",
       "      <td>72.349406</td>\n",
       "      <td>cpu</td>\n",
       "    </tr>\n",
       "  </tbody>\n",
       "</table>\n",
       "</div>"
      ],
      "text/plain": [
       "                  itemid       clock  value_min  value_avg  value_max  \\\n",
       "2373718  100100054579792  2022-10-12   3.315988    5.96734  72.349406   \n",
       "\n",
       "        item_type  \n",
       "2373718       cpu  "
      ]
     },
     "execution_count": 8,
     "metadata": {},
     "output_type": "execute_result"
    }
   ],
   "source": [
    "df_item_trend.sample(1)"
   ]
  },
  {
   "cell_type": "code",
   "execution_count": 35,
   "metadata": {},
   "outputs": [],
   "source": [
    "usage_threshold = 90\n",
    "value_type = \"value_max\""
   ]
  },
  {
   "cell_type": "code",
   "execution_count": 47,
   "metadata": {},
   "outputs": [
    {
     "data": {
      "text/html": [
       "<div>\n",
       "<style scoped>\n",
       "    .dataframe tbody tr th:only-of-type {\n",
       "        vertical-align: middle;\n",
       "    }\n",
       "\n",
       "    .dataframe tbody tr th {\n",
       "        vertical-align: top;\n",
       "    }\n",
       "\n",
       "    .dataframe thead th {\n",
       "        text-align: right;\n",
       "    }\n",
       "</style>\n",
       "<table border=\"1\" class=\"dataframe\">\n",
       "  <thead>\n",
       "    <tr style=\"text-align: right;\">\n",
       "      <th></th>\n",
       "      <th>itemid</th>\n",
       "      <th>above_threshold (%)</th>\n",
       "    </tr>\n",
       "  </thead>\n",
       "  <tbody>\n",
       "    <tr>\n",
       "      <th>6094</th>\n",
       "      <td>100100052798375</td>\n",
       "      <td>6.161137</td>\n",
       "    </tr>\n",
       "  </tbody>\n",
       "</table>\n",
       "</div>"
      ],
      "text/plain": [
       "               itemid  above_threshold (%)\n",
       "6094  100100052798375             6.161137"
      ]
     },
     "execution_count": 47,
     "metadata": {},
     "output_type": "execute_result"
    }
   ],
   "source": [
    "def get_frequency_above_threshold(df_item_trend, value_type, usage_threshold):\n",
    "    df = df_item_trend.copy()  \n",
    "\n",
    "    # 0 or 1 if \"value is above threshold\"\n",
    "    df[\"above_threshold (%)\"] = (df[value_type] > usage_threshold)*1\n",
    "\n",
    "    # Get frequency of \"value is above threshold\"\n",
    "    df = df[[\"itemid\", \"above_threshold (%)\"]]\\\n",
    "        .groupby(\"itemid\")\\\n",
    "        .mean()*100\n",
    "\n",
    "    return df.reset_index()\n",
    "\n",
    "get_frequency_above_threshold(df_item_trend, value_type, usage_threshold).sample()"
   ]
  },
  {
   "cell_type": "code",
   "execution_count": 118,
   "metadata": {},
   "outputs": [
    {
     "data": {
      "text/html": [
       "<div>\n",
       "<style scoped>\n",
       "    .dataframe tbody tr th:only-of-type {\n",
       "        vertical-align: middle;\n",
       "    }\n",
       "\n",
       "    .dataframe tbody tr th {\n",
       "        vertical-align: top;\n",
       "    }\n",
       "\n",
       "    .dataframe thead th {\n",
       "        text-align: right;\n",
       "    }\n",
       "</style>\n",
       "<table border=\"1\" class=\"dataframe\">\n",
       "  <thead>\n",
       "    <tr style=\"text-align: right;\">\n",
       "      <th></th>\n",
       "      <th>itemid</th>\n",
       "      <th>clock</th>\n",
       "      <th>value_min</th>\n",
       "      <th>value_avg</th>\n",
       "      <th>value_max</th>\n",
       "      <th>item_type</th>\n",
       "      <th>above_threshold</th>\n",
       "      <th>previous_n_days_underthreshold</th>\n",
       "    </tr>\n",
       "  </thead>\n",
       "  <tbody>\n",
       "    <tr>\n",
       "      <th>1910223</th>\n",
       "      <td>100100040896446</td>\n",
       "      <td>2022-10-15</td>\n",
       "      <td>66.39445</td>\n",
       "      <td>70.606057</td>\n",
       "      <td>81.067274</td>\n",
       "      <td>mem</td>\n",
       "      <td>True</td>\n",
       "      <td>True</td>\n",
       "    </tr>\n",
       "  </tbody>\n",
       "</table>\n",
       "</div>"
      ],
      "text/plain": [
       "                  itemid       clock  value_min  value_avg  value_max  \\\n",
       "1910223  100100040896446  2022-10-15   66.39445  70.606057  81.067274   \n",
       "\n",
       "        item_type  above_threshold previous_n_days_underthreshold  \n",
       "1910223       mem             True                           True  "
      ]
     },
     "execution_count": 118,
     "metadata": {},
     "output_type": "execute_result"
    }
   ],
   "source": [
    "def get_count_of_servers_above_thresholds_during(df_item_trend, value_type, threshold, during=2):\n",
    "    df = df_item_trend.copy()\n",
    "\n",
    "    df[\"above_threshold\"] = df[value_type] >= threshold\n",
    "    \n",
    "    df[\"previous_n_days_underthreshold\"] = pd.Series(\n",
    "        np.logical_and.reduce([df[\"above_threshold\"].shift(i) for i in range(during)])\n",
    "    )\n",
    "    \n",
    "    return df\n",
    "\n",
    "get_count_of_servers_above_thresholds_during(df_item_trend, value_type=\"value_max\", threshold=64, during=3).sample()"
   ]
  },
  {
   "cell_type": "code",
   "execution_count": 122,
   "metadata": {},
   "outputs": [
    {
     "name": "stdout",
     "output_type": "stream",
     "text": [
      "0.011408439301603937\n",
      "\n",
      " There are 1.14 % of servers whose max_value has gone above threshold for 2 consecutive days\n"
     ]
    }
   ],
   "source": [
    "print(get_count_of_servers_above_thresholds_during(df_item_trend, value_type=\"value_max\", threshold=100, during=2)\\\n",
    "    [\"previous_n_days_underthreshold\"].mean())\n",
    "\n",
    "print(\"\\n\", \n",
    "\"There are 1.14 % of servers whose max_value has gone above threshold for 2 consecutive days\"\n",
    ")"
   ]
  },
  {
   "cell_type": "code",
   "execution_count": 135,
   "metadata": {},
   "outputs": [
    {
     "name": "stdout",
     "output_type": "stream",
     "text": [
      "2.161181095620915\n",
      "There are 2.16 % of servers with min_value over 90 for 3 consecutive days\n"
     ]
    }
   ],
   "source": [
    "print(get_count_of_servers_above_thresholds_during(df_item_trend, value_type=\"value_min\", threshold=90, during=3)\\\n",
    "    [\"previous_n_days_underthreshold\"].mean()*100)\n",
    "\n",
    "print(\"There are 2.16 % of servers with min_value over 90 for 3 consecutive days\")"
   ]
  },
  {
   "cell_type": "code",
   "execution_count": 136,
   "metadata": {},
   "outputs": [
    {
     "name": "stdout",
     "output_type": "stream",
     "text": [
      "An example of server with very high value_min for consecutive days\n"
     ]
    },
    {
     "data": {
      "text/html": [
       "<div>\n",
       "<style scoped>\n",
       "    .dataframe tbody tr th:only-of-type {\n",
       "        vertical-align: middle;\n",
       "    }\n",
       "\n",
       "    .dataframe tbody tr th {\n",
       "        vertical-align: top;\n",
       "    }\n",
       "\n",
       "    .dataframe thead th {\n",
       "        text-align: right;\n",
       "    }\n",
       "</style>\n",
       "<table border=\"1\" class=\"dataframe\">\n",
       "  <thead>\n",
       "    <tr style=\"text-align: right;\">\n",
       "      <th></th>\n",
       "      <th>itemid</th>\n",
       "      <th>clock</th>\n",
       "      <th>value_min</th>\n",
       "      <th>value_avg</th>\n",
       "      <th>value_max</th>\n",
       "      <th>item_type</th>\n",
       "    </tr>\n",
       "  </thead>\n",
       "  <tbody>\n",
       "    <tr>\n",
       "      <th>401490</th>\n",
       "      <td>100100013303178</td>\n",
       "      <td>2021-10-27</td>\n",
       "      <td>91.072593</td>\n",
       "      <td>92.218769</td>\n",
       "      <td>92.859655</td>\n",
       "      <td>mem</td>\n",
       "    </tr>\n",
       "    <tr>\n",
       "      <th>401491</th>\n",
       "      <td>100100013303178</td>\n",
       "      <td>2021-10-28</td>\n",
       "      <td>91.782055</td>\n",
       "      <td>92.321963</td>\n",
       "      <td>93.307115</td>\n",
       "      <td>mem</td>\n",
       "    </tr>\n",
       "    <tr>\n",
       "      <th>401492</th>\n",
       "      <td>100100013303178</td>\n",
       "      <td>2021-10-29</td>\n",
       "      <td>91.955723</td>\n",
       "      <td>92.236123</td>\n",
       "      <td>93.211483</td>\n",
       "      <td>mem</td>\n",
       "    </tr>\n",
       "    <tr>\n",
       "      <th>401493</th>\n",
       "      <td>100100013303178</td>\n",
       "      <td>2021-10-30</td>\n",
       "      <td>92.061129</td>\n",
       "      <td>93.513694</td>\n",
       "      <td>94.652618</td>\n",
       "      <td>mem</td>\n",
       "    </tr>\n",
       "    <tr>\n",
       "      <th>401494</th>\n",
       "      <td>100100013303178</td>\n",
       "      <td>2021-10-31</td>\n",
       "      <td>91.501026</td>\n",
       "      <td>92.707906</td>\n",
       "      <td>97.263741</td>\n",
       "      <td>mem</td>\n",
       "    </tr>\n",
       "    <tr>\n",
       "      <th>401495</th>\n",
       "      <td>100100013303178</td>\n",
       "      <td>2021-11-01</td>\n",
       "      <td>91.895235</td>\n",
       "      <td>92.349869</td>\n",
       "      <td>93.723365</td>\n",
       "      <td>mem</td>\n",
       "    </tr>\n",
       "    <tr>\n",
       "      <th>401496</th>\n",
       "      <td>100100013303178</td>\n",
       "      <td>2021-11-02</td>\n",
       "      <td>91.857731</td>\n",
       "      <td>92.105027</td>\n",
       "      <td>93.106482</td>\n",
       "      <td>mem</td>\n",
       "    </tr>\n",
       "  </tbody>\n",
       "</table>\n",
       "</div>"
      ],
      "text/plain": [
       "                 itemid       clock  value_min  value_avg  value_max item_type\n",
       "401490  100100013303178  2021-10-27  91.072593  92.218769  92.859655       mem\n",
       "401491  100100013303178  2021-10-28  91.782055  92.321963  93.307115       mem\n",
       "401492  100100013303178  2021-10-29  91.955723  92.236123  93.211483       mem\n",
       "401493  100100013303178  2021-10-30  92.061129  93.513694  94.652618       mem\n",
       "401494  100100013303178  2021-10-31  91.501026  92.707906  97.263741       mem\n",
       "401495  100100013303178  2021-11-01  91.895235  92.349869  93.723365       mem\n",
       "401496  100100013303178  2021-11-02  91.857731  92.105027  93.106482       mem"
      ]
     },
     "execution_count": 136,
     "metadata": {},
     "output_type": "execute_result"
    }
   ],
   "source": [
    "print(\"An example of server with very high value_min for consecutive days \")\n",
    "df_item_trend.iloc[401490:401497]"
   ]
  },
  {
   "cell_type": "code",
   "execution_count": 139,
   "metadata": {},
   "outputs": [
    {
     "name": "stdout",
     "output_type": "stream",
     "text": [
      "0.009673648851202468\n",
      "There are 0.967 % of servers with min_value over 100 for 3 consecutive days\n"
     ]
    }
   ],
   "source": [
    "print(get_count_of_servers_above_thresholds_during(df_item_trend, value_type=\"value_min\", threshold=100, during=3)\\\n",
    "    [\"previous_n_days_underthreshold\"].mean()*100)\n",
    "\n",
    "print(\"There are 0.967 % of servers with min_value over 100 for 3 consecutive days\")"
   ]
  },
  {
   "cell_type": "code",
   "execution_count": 142,
   "metadata": {},
   "outputs": [
    {
     "name": "stdout",
     "output_type": "stream",
     "text": [
      "An example of server cmpletely saturated for consecutive days \n"
     ]
    },
    {
     "data": {
      "text/html": [
       "<div>\n",
       "<style scoped>\n",
       "    .dataframe tbody tr th:only-of-type {\n",
       "        vertical-align: middle;\n",
       "    }\n",
       "\n",
       "    .dataframe tbody tr th {\n",
       "        vertical-align: top;\n",
       "    }\n",
       "\n",
       "    .dataframe thead th {\n",
       "        text-align: right;\n",
       "    }\n",
       "</style>\n",
       "<table border=\"1\" class=\"dataframe\">\n",
       "  <thead>\n",
       "    <tr style=\"text-align: right;\">\n",
       "      <th></th>\n",
       "      <th>itemid</th>\n",
       "      <th>clock</th>\n",
       "      <th>value_min</th>\n",
       "      <th>value_avg</th>\n",
       "      <th>value_max</th>\n",
       "      <th>item_type</th>\n",
       "    </tr>\n",
       "  </thead>\n",
       "  <tbody>\n",
       "    <tr>\n",
       "      <th>250064</th>\n",
       "      <td>100100014005240</td>\n",
       "      <td>2022-11-28</td>\n",
       "      <td>100.0</td>\n",
       "      <td>100.0</td>\n",
       "      <td>100.0</td>\n",
       "      <td>cpu</td>\n",
       "    </tr>\n",
       "    <tr>\n",
       "      <th>250065</th>\n",
       "      <td>100100014005240</td>\n",
       "      <td>2022-11-29</td>\n",
       "      <td>100.0</td>\n",
       "      <td>100.0</td>\n",
       "      <td>100.0</td>\n",
       "      <td>cpu</td>\n",
       "    </tr>\n",
       "    <tr>\n",
       "      <th>250066</th>\n",
       "      <td>100100014005240</td>\n",
       "      <td>2022-11-30</td>\n",
       "      <td>100.0</td>\n",
       "      <td>100.0</td>\n",
       "      <td>100.0</td>\n",
       "      <td>cpu</td>\n",
       "    </tr>\n",
       "    <tr>\n",
       "      <th>250067</th>\n",
       "      <td>100100014005240</td>\n",
       "      <td>2022-12-01</td>\n",
       "      <td>100.0</td>\n",
       "      <td>100.0</td>\n",
       "      <td>100.0</td>\n",
       "      <td>cpu</td>\n",
       "    </tr>\n",
       "    <tr>\n",
       "      <th>250068</th>\n",
       "      <td>100100014005240</td>\n",
       "      <td>2022-12-02</td>\n",
       "      <td>100.0</td>\n",
       "      <td>100.0</td>\n",
       "      <td>100.0</td>\n",
       "      <td>cpu</td>\n",
       "    </tr>\n",
       "    <tr>\n",
       "      <th>250069</th>\n",
       "      <td>100100014005240</td>\n",
       "      <td>2022-12-03</td>\n",
       "      <td>100.0</td>\n",
       "      <td>100.0</td>\n",
       "      <td>100.0</td>\n",
       "      <td>cpu</td>\n",
       "    </tr>\n",
       "  </tbody>\n",
       "</table>\n",
       "</div>"
      ],
      "text/plain": [
       "                 itemid       clock  value_min  value_avg  value_max item_type\n",
       "250064  100100014005240  2022-11-28      100.0      100.0      100.0       cpu\n",
       "250065  100100014005240  2022-11-29      100.0      100.0      100.0       cpu\n",
       "250066  100100014005240  2022-11-30      100.0      100.0      100.0       cpu\n",
       "250067  100100014005240  2022-12-01      100.0      100.0      100.0       cpu\n",
       "250068  100100014005240  2022-12-02      100.0      100.0      100.0       cpu\n",
       "250069  100100014005240  2022-12-03      100.0      100.0      100.0       cpu"
      ]
     },
     "execution_count": 142,
     "metadata": {},
     "output_type": "execute_result"
    }
   ],
   "source": [
    "print(\"An example of server cmpletely saturated for consecutive days \")\n",
    "df_item_trend.iloc[250067-3:250067+3]"
   ]
  },
  {
   "cell_type": "code",
   "execution_count": null,
   "metadata": {},
   "outputs": [],
   "source": []
  }
 ],
 "metadata": {
  "kernelspec": {
   "display_name": "base",
   "language": "python",
   "name": "python3"
  },
  "language_info": {
   "codemirror_mode": {
    "name": "ipython",
    "version": 3
   },
   "file_extension": ".py",
   "mimetype": "text/x-python",
   "name": "python",
   "nbconvert_exporter": "python",
   "pygments_lexer": "ipython3",
   "version": "3.9.13"
  },
  "orig_nbformat": 4,
  "vscode": {
   "interpreter": {
    "hash": "09a36c2d1fbb100d4339aebc051bf1c3844df0b198b354d9c6316d08dac71358"
   }
  }
 },
 "nbformat": 4,
 "nbformat_minor": 2
}
